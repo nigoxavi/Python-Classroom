{
 "cells": [
  {
   "cell_type": "markdown",
   "id": "95a88951",
   "metadata": {},
   "source": [
    "## User defined Function - t test "
   ]
  },
  {
   "cell_type": "code",
   "execution_count": 1,
   "id": "e2f9f0f2",
   "metadata": {},
   "outputs": [],
   "source": [
    "def tenzing_ttest(x1 = 'sample1', x2 = 'sample2', *, sample, mu = 'mu', alpha):\n",
    "    \n",
    "    # One sample t test\n",
    "    if sample == 'one':\n",
    "        dev = 0\n",
    "        sum0 = 0\n",
    "        count = 0\n",
    "        \n",
    "        # Calculating sample mean\n",
    "        for i in x1:\n",
    "            sum0 += i\n",
    "            count += 1\n",
    "        avg = sum0/count\n",
    "        \n",
    "        # Calculating sample variance and  sample standard deviation\n",
    "        for j in x1:\n",
    "            dev += (j - avg)**2\n",
    "        var = dev / (count - 1)\n",
    "        sd = var**0.5\n",
    "        \n",
    "        # Calculating Standard error\n",
    "        se = sd/(count ** 0.5)\n",
    "        \n",
    "        # Calculating test statistic\n",
    "        t_val1 = (avg - mu) / se\n",
    "        \n",
    "        # Calculating degrees of freedom\n",
    "        df1 = count - 1\n",
    "        \n",
    "        # Calculating p value\n",
    "        from scipy import stats\n",
    "        p_val1 = 2 * (1 - stats.t.cdf(x = t_val1, df = df1))\n",
    "        \n",
    "        # Results\n",
    "        print('One Sample t test')\n",
    "        print('------------  ---------')\n",
    "        print('Sample Size :', count)\n",
    "        print('Mean        :', \"%.5f\" % avg)\n",
    "        print('Std Error   :', \"%.5f\" % se)\n",
    "        print('t Statistic :', \"%.5f\" % t_val1)\n",
    "        print('df          :', df1)\n",
    "        print('alpha value :', alpha)\n",
    "        print('p_value     :', \"%.5f\" % p_val1)\n",
    "        print('------------  ---------')\n",
    "        print('')\n",
    "        print('Result:')\n",
    "        if p_val1 < alpha:\n",
    "            print('The p value of our test ({:.5f}) is lesser than alpha ({}), So we reject the Null Hypothesis of the test.'.format(p_val1,alpha))\n",
    "        else:\n",
    "            print('The p value of our test ({:.5f}) is greater than alpha ({}), So we fail to reject the Null Hypothesis of the test.'.format(p_val1,alpha))\n",
    "    \n",
    "    # Independent sample t test\n",
    "    elif sample == 'two':\n",
    "        a = [1,2]\n",
    "        for i in a:\n",
    "            globals()['dev%s' % i] = 0\n",
    "            globals()['sum%s' % i] = 0\n",
    "            globals()['count%s' % i] = 0\n",
    "            globals()['dev%s' % i] = 0\n",
    "\n",
    "            # Calculating sample \n",
    "            for j in globals()['x%s' % i]:\n",
    "                globals()['sum%s' % i] += j\n",
    "                globals()['count%s' % i] += 1\n",
    "            globals()['avg%s' % i] =  globals()['sum%s' % i] / globals()['count%s' % i]  \n",
    "            \n",
    "             # Calculating sample variance and  sample standard deviation\n",
    "            for k in globals()['x%s' % i]:\n",
    "                globals()['dev%s' % i] += (k - globals()['avg%s' % i])**2\n",
    "            globals()['var%s' % i] = globals()['dev%s' % i] / (globals()['count%s' % i] - 1)\n",
    "            globals()['sd%s' % i] = globals()['var%s' % i] ** 0.5\n",
    "\n",
    "            # Calculating Standard error\n",
    "            globals()['se%s' % i] = globals()['sd%s' % i]/(globals()['count%s' % i] ** 0.5)\n",
    "        \n",
    "        # Calculating mean difference\n",
    "        mean_diff = avg1 - avg2\n",
    "        \n",
    "        # standard error on the difference between the samples\n",
    "        sed = (se1**2.0 + se2**2.0) ** 0.5\n",
    "            \n",
    "        # Calculating test statistic\n",
    "        t_val2 = (avg1 - avg2) / sed\n",
    "            \n",
    "        # Calculating degrees of freedom\n",
    "        df2 = count1 + count2 - 2\n",
    "        \n",
    "        # Calculating p value\n",
    "        from scipy import stats\n",
    "        p_val2 = 2 * (1 - stats.t.cdf(x = abs(t_val2), df = df2))\n",
    "        \n",
    "        # Results\n",
    "        print('Two sample t test with equal variance')\n",
    "        print('---------------------  ---------')\n",
    "        print('Size of the samples  :', count2)\n",
    "        print('Mean of sample 1     :', \"%.5f\" % avg1)\n",
    "        print('Mean of sample 2     :', \"%.5f\" % avg2)\n",
    "        print('Mean difference      :', \"%.5f\" % mean_diff)\n",
    "        print('Std Error difference :', \"%.5f\" % sed)\n",
    "        print('t Statistic          :', \"%.5f\" % t_val2)\n",
    "        print('df                   :', df2)\n",
    "        print('alpha value          :', alpha)\n",
    "        print('p_value              :', \"%.5f\" % p_val2)\n",
    "        print('---------------------  ---------')\n",
    "        print('')\n",
    "        print('Result:')\n",
    "        if p_val2 < alpha:\n",
    "            print('The p value of our test ({:.5f}) is lesser than alpha ({}), So we reject the Null Hypothesis of the test.'.format(p_val2,alpha))\n",
    "        else:\n",
    "            print('The p value of our test ({:.5f}) is greater than alpha ({}), So we fail to reject the Null Hypothesis of the test.'.format(p_val2,alpha))\n",
    "            \n",
    "    elif sample == 'paired':\n",
    "        a = [1,2]\n",
    "        for i in a:\n",
    "            globals()['sum1%s' % i] = 0\n",
    "            globals()['count1%s' % i] = 0\n",
    "\n",
    "            # Calculating sample \n",
    "            for j in globals()['x%s' % i]:\n",
    "                globals()['sum1%s' % i] += j\n",
    "                globals()['count1%s' % i] += 1\n",
    "            globals()['avg1%s' % i] =  globals()['sum1%s' % i] / globals()['count1%s' % i]  \n",
    "            \n",
    "        # Calculating sum squared difference and sum difference between observations\n",
    "        d1 = 0\n",
    "        d2 = 0\n",
    "        for k in range(len(x1)):\n",
    "            d1 += x1[k] - x2[k]           # sum of difference between observations\n",
    "            d2 += (x1[k] - x2[k]) ** 2    # sum of squared difference between observations     \n",
    "            \n",
    "        # Calculating standard error of the difference between the means\n",
    "        sed3 = (((d2 * count11) - (d1 ** 2)) / (count11 - 1)) ** 0.5\n",
    "\n",
    "        # Calculating test statistic\n",
    "        t_val3 = d1 / sed3\n",
    "        \n",
    "        # Calculating degrees of freedom\n",
    "        df3 = count11 - 1\n",
    "        \n",
    "        # Calculating p value\n",
    "        from scipy import stats\n",
    "        p_val3 = 2 * (1 - stats.t.cdf(x = abs(t_val3), df = df3))\n",
    "        \n",
    "        # Results\n",
    "        print('Paired sample t test')\n",
    "        print('------------------------  ---------')\n",
    "        print('Size of the samples     :', count12)\n",
    "        print('Mean of sample 1        :', \"%.5f\" % avg11)\n",
    "        print('Mean of sample 2        :', \"%.5f\" % avg12)\n",
    "        print('Mean difference         :', \"%.5f\" % d1)\n",
    "        print('Squared Mean difference :', \"%.5f\" % d1)\n",
    "        print('Std Error difference    :', \"%.5f\" % sed3)\n",
    "        print('t Statistic             :', \"%.5f\" % t_val3)\n",
    "        print('df                      :', df3)\n",
    "        print('alpha value             :', alpha)\n",
    "        print('p_value                 :', \"%.5f\" % p_val3)\n",
    "        print('------------------------  ---------')\n",
    "        print('')\n",
    "        print('Result:')\n",
    "        if p_val3 < alpha:\n",
    "            print('The p value of our test ({:.5f}) is lesser than alpha ({}), So we reject the Null Hypothesis of the test.'.format(p_val3,alpha))\n",
    "        else:\n",
    "            print('The p value of our test ({:.5f}) is greater than alpha ({}), So we fail to reject the Null Hypothesis of the test.'.format(p_val3,alpha))\n",
    "        \n",
    "    else:\n",
    "        print(\"Invalid augumnet\")"
   ]
  },
  {
   "cell_type": "markdown",
   "id": "8d8e3c78",
   "metadata": {},
   "source": [
    "## One sample t test"
   ]
  },
  {
   "cell_type": "code",
   "execution_count": 2,
   "id": "ff9e3ccb",
   "metadata": {},
   "outputs": [
    {
     "data": {
      "text/plain": [
       "Ttest_1sampResult(statistic=-1.6848470783484626, pvalue=0.12014460742498101)"
      ]
     },
     "execution_count": 2,
     "metadata": {},
     "output_type": "execute_result"
    }
   ],
   "source": [
    "x = [14, 14, 16, 13, 12, 17, 15, 14, 15, 13, 15, 14]\n",
    "\n",
    "import scipy.stats as stats\n",
    "\n",
    "stats.ttest_1samp(a = x, popmean = 15)"
   ]
  },
  {
   "cell_type": "code",
   "execution_count": 3,
   "id": "d6ddfd3f",
   "metadata": {},
   "outputs": [
    {
     "name": "stdout",
     "output_type": "stream",
     "text": [
      "One Sample t test\n",
      "------------  ---------\n",
      "Sample Size : 12\n",
      "Mean        : 14.33333\n",
      "Std Error   : 0.39568\n",
      "t Statistic : -1.68485\n",
      "df          : 11\n",
      "alpha value : 0.05\n",
      "p_value     : 1.87986\n",
      "------------  ---------\n",
      "\n",
      "Result:\n",
      "The p value of our test (1.87986) is greater than alpha (0.05), So we fail to reject the Null Hypothesis of the test.\n"
     ]
    }
   ],
   "source": [
    "tenzing_ttest(x, sample = 'one', mu = 15, alpha = 0.05)"
   ]
  },
  {
   "cell_type": "markdown",
   "id": "86719978",
   "metadata": {},
   "source": [
    "## Independent sample t test (2 sample)"
   ]
  },
  {
   "cell_type": "code",
   "execution_count": 4,
   "id": "913bb8c1",
   "metadata": {},
   "outputs": [
    {
     "data": {
      "text/plain": [
       "Ttest_indResult(statistic=-0.6337397070250238, pvalue=0.5300471010405257)"
      ]
     },
     "execution_count": 4,
     "metadata": {},
     "output_type": "execute_result"
    }
   ],
   "source": [
    "x1 = [14, 15, 15, 16, 13, 8, 14, 17, 16, 14, 19, 20, 21, 15, 15, 16, 16, 13, 14, 12]\n",
    "x2 = [15, 17, 14, 17, 14, 8, 12, 19, 19, 14, 17, 22, 24, 16, 13, 16, 13, 18, 15, 13]\n",
    "\n",
    "import scipy.stats as stats\n",
    "\n",
    "stats.ttest_ind(a = x1 , b = x2, equal_var=True)"
   ]
  },
  {
   "cell_type": "code",
   "execution_count": 5,
   "id": "8f4491dc",
   "metadata": {},
   "outputs": [
    {
     "name": "stdout",
     "output_type": "stream",
     "text": [
      "Two sample t test with equal variance\n",
      "---------------------  ---------\n",
      "Size of the samples  : 20\n",
      "Mean of sample 1     : 15.15000\n",
      "Mean of sample 2     : 15.80000\n",
      "Mean difference      : -0.65000\n",
      "Std Error difference : 1.02566\n",
      "t Statistic          : -0.63374\n",
      "df                   : 38\n",
      "alpha value          : 0.05\n",
      "p_value              : 0.53005\n",
      "---------------------  ---------\n",
      "\n",
      "Result:\n",
      "The p value of our test (0.53005) is greater than alpha (0.05), So we fail to reject the Null Hypothesis of the test.\n"
     ]
    }
   ],
   "source": [
    "tenzing_ttest(x1, x2, sample = 'two', alpha = 0.05)"
   ]
  },
  {
   "cell_type": "markdown",
   "id": "01ef6497",
   "metadata": {},
   "source": [
    "## Paired sample t test"
   ]
  },
  {
   "cell_type": "code",
   "execution_count": 6,
   "id": "1d4edebe",
   "metadata": {},
   "outputs": [
    {
     "data": {
      "text/plain": [
       "Ttest_relResult(statistic=-4.648307363139232, pvalue=0.0004559165247622184)"
      ]
     },
     "execution_count": 6,
     "metadata": {},
     "output_type": "execute_result"
    }
   ],
   "source": [
    "x1 = [23, 25, 28, 30, 25, 25, 26, 25, 22, 30, 35, 40, 35, 30]\n",
    "x2 = [35, 40, 30, 35, 40, 45, 30, 30, 35, 40, 40, 35, 38, 41]\n",
    "\n",
    "import scipy.stats as stats\n",
    "\n",
    "stats.ttest_rel(x1, x2)"
   ]
  },
  {
   "cell_type": "code",
   "execution_count": 7,
   "id": "de9f5ad9",
   "metadata": {},
   "outputs": [
    {
     "name": "stdout",
     "output_type": "stream",
     "text": [
      "Paired sample t test\n",
      "------------------------  ---------\n",
      "Size of the samples     : 14\n",
      "Mean of sample 1        : 28.50000\n",
      "Mean of sample 2        : 36.71429\n",
      "Mean difference         : -115.00000\n",
      "Squared Mean difference : -115.00000\n",
      "Std Error difference    : 24.74019\n",
      "t Statistic             : -4.64831\n",
      "df                      : 13\n",
      "alpha value             : 0.05\n",
      "p_value                 : 0.00046\n",
      "------------------------  ---------\n",
      "\n",
      "Result:\n",
      "The p value of our test (0.00046) is lesser than alpha (0.05), So we reject the Null Hypothesis of the test.\n"
     ]
    }
   ],
   "source": [
    "tenzing_ttest(x1, x2, sample = 'paired', alpha = 0.05)"
   ]
  },
  {
   "cell_type": "code",
   "execution_count": null,
   "id": "50056f0f",
   "metadata": {},
   "outputs": [],
   "source": []
  }
 ],
 "metadata": {
  "kernelspec": {
   "display_name": "Python 3 (ipykernel)",
   "language": "python",
   "name": "python3"
  },
  "language_info": {
   "codemirror_mode": {
    "name": "ipython",
    "version": 3
   },
   "file_extension": ".py",
   "mimetype": "text/x-python",
   "name": "python",
   "nbconvert_exporter": "python",
   "pygments_lexer": "ipython3",
   "version": "3.8.11"
  }
 },
 "nbformat": 4,
 "nbformat_minor": 5
}
